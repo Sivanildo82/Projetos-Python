{
 "cells": [
  {
   "cell_type": "code",
   "execution_count": 22,
   "id": "4c767046",
   "metadata": {},
   "outputs": [
    {
     "name": "stdout",
     "output_type": "stream",
     "text": [
      "digite um  valor:589\n",
      "digite  outro valor:6985\n",
      "A soma entre  589 e 6985 é igual a 7574!\n"
     ]
    }
   ],
   "source": [
    "n1  = int(input(\"digite um  valor:\"))\n",
    "n2  = int(input(\"digite  outro valor:\"))\n",
    "\n",
    "s = n1 + n2\n",
    "\n",
    "print(\"A soma entre  {} e {} é igual a {}!\".format(n1,n2,s))\n"
   ]
  },
  {
   "cell_type": "code",
   "execution_count": null,
   "id": "ecdc2db5",
   "metadata": {},
   "outputs": [],
   "source": []
  }
 ],
 "metadata": {
  "kernelspec": {
   "display_name": "Python 3 (ipykernel)",
   "language": "python",
   "name": "python3"
  },
  "language_info": {
   "codemirror_mode": {
    "name": "ipython",
    "version": 3
   },
   "file_extension": ".py",
   "mimetype": "text/x-python",
   "name": "python",
   "nbconvert_exporter": "python",
   "pygments_lexer": "ipython3",
   "version": "3.9.7"
  }
 },
 "nbformat": 4,
 "nbformat_minor": 5
}
