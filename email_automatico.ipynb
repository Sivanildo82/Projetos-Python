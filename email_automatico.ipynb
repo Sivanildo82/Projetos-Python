{
 "cells": [
  {
   "cell_type": "code",
   "execution_count": 3,
   "id": "c7edd3ac",
   "metadata": {},
   "outputs": [
    {
     "ename": "AttributeError",
     "evalue": "module 'win32com.client' has no attribute 'Dispach'",
     "output_type": "error",
     "traceback": [
      "\u001b[1;31m---------------------------------------------------------------------------\u001b[0m",
      "\u001b[1;31mAttributeError\u001b[0m                            Traceback (most recent call last)",
      "\u001b[1;32m~\\AppData\\Local\\Temp/ipykernel_2928/1960738248.py\u001b[0m in \u001b[0;36m<module>\u001b[1;34m\u001b[0m\n\u001b[0;32m      3\u001b[0m \u001b[1;31m#criar a integração com  o  outlook\u001b[0m\u001b[1;33m\u001b[0m\u001b[1;33m\u001b[0m\u001b[0m\n\u001b[0;32m      4\u001b[0m \u001b[1;33m\u001b[0m\u001b[0m\n\u001b[1;32m----> 5\u001b[1;33m \u001b[0mgmail\u001b[0m \u001b[1;33m=\u001b[0m \u001b[0mwin32\u001b[0m\u001b[1;33m.\u001b[0m\u001b[0mDispach\u001b[0m\u001b[1;33m(\u001b[0m\u001b[1;34m\"gmail.application\"\u001b[0m\u001b[1;33m)\u001b[0m\u001b[1;33m\u001b[0m\u001b[1;33m\u001b[0m\u001b[0m\n\u001b[0m\u001b[0;32m      6\u001b[0m \u001b[1;33m\u001b[0m\u001b[0m\n\u001b[0;32m      7\u001b[0m \u001b[1;31m#criar um  e-mail\u001b[0m\u001b[1;33m\u001b[0m\u001b[1;33m\u001b[0m\u001b[0m\n",
      "\u001b[1;31mAttributeError\u001b[0m: module 'win32com.client' has no attribute 'Dispach'"
     ]
    }
   ],
   "source": [
    "import win32com.client as win32\n",
    "\n",
    "#criar a integração com  o  outlook\n",
    "\n",
    "gmail = win32.Dispach(\"gmail.application\")\n",
    "\n",
    "#criar um  e-mail\n",
    "\n",
    "email = gmail.CreateItem(0)\n",
    "\n",
    "#configurar as  informaçoes do seu  e-mail\n",
    "\n",
    "email.To = \"sivanildoads@gmail.com\"\n",
    "email.Subject = \"E-mail  automatico Python\"\n",
    "email.HTMLBody = \"\"\"\n",
    "\n",
    " <p> Ola  Sivanildo  aqui é  o  código  Python </p>\n",
    "\n",
    "  <p> O faturamento da  loja  foi de  R$ 2.000 </p>\n",
    "   <p> Vendemos 10 produtos  </p>\n",
    "   <p> O ticket  médio  foi de R$ 200  </p>\n",
    "\n",
    "  <p> Abs  Sivanildo  </p>\n",
    "\"\"\"\n",
    "email.Send()\n",
    "\n",
    "print(\"E-mail Enviado \")\n",
    "\n",
    "\n"
   ]
  },
  {
   "cell_type": "code",
   "execution_count": null,
   "id": "c72d8488",
   "metadata": {},
   "outputs": [],
   "source": []
  }
 ],
 "metadata": {
  "kernelspec": {
   "display_name": "Python 3 (ipykernel)",
   "language": "python",
   "name": "python3"
  },
  "language_info": {
   "codemirror_mode": {
    "name": "ipython",
    "version": 3
   },
   "file_extension": ".py",
   "mimetype": "text/x-python",
   "name": "python",
   "nbconvert_exporter": "python",
   "pygments_lexer": "ipython3",
   "version": "3.9.7"
  }
 },
 "nbformat": 4,
 "nbformat_minor": 5
}
