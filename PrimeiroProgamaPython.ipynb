{
 "cells": [
  {
   "cell_type": "code",
   "execution_count": 21,
   "id": "ad6144a6",
   "metadata": {},
   "outputs": [
    {
     "name": "stdout",
     "output_type": "stream",
     "text": [
      "digite o  ano  do  seu nascimento 1982\n",
      "digite a sua idade 39\n",
      "digite o dia que  voce  nasceu 14\n",
      "parabens! Sivanildo   voce nasceu  dia ! 14  e tem ! 39  no  ano de! 1982\n"
     ]
    }
   ],
   "source": [
    "n1 = int (input (\"digite o  ano  do  seu nascimento \"))\n",
    "n2 = int (input (\"digite a sua idade \"))\n",
    "n3 = int (input (\"digite o dia que  voce  nasceu \"))\n",
    "texto =   (\"Sivanildo \")\n",
    " \n",
    "\n",
    "print(\"parabens!\" ,texto ,\" voce nasceu  dia !\", n3 ,\" e tem !\" ,n2 ,\" no  ano de!\" ,n1)"
   ]
  },
  {
   "cell_type": "code",
   "execution_count": null,
   "id": "0a35a1e9",
   "metadata": {},
   "outputs": [],
   "source": []
  },
  {
   "cell_type": "code",
   "execution_count": null,
   "id": "083f188c",
   "metadata": {},
   "outputs": [],
   "source": []
  }
 ],
 "metadata": {
  "kernelspec": {
   "display_name": "Python 3 (ipykernel)",
   "language": "python",
   "name": "python3"
  },
  "language_info": {
   "codemirror_mode": {
    "name": "ipython",
    "version": 3
   },
   "file_extension": ".py",
   "mimetype": "text/x-python",
   "name": "python",
   "nbconvert_exporter": "python",
   "pygments_lexer": "ipython3",
   "version": "3.9.7"
  }
 },
 "nbformat": 4,
 "nbformat_minor": 5
}
